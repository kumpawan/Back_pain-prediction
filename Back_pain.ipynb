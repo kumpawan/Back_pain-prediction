{
  "nbformat": 4,
  "nbformat_minor": 0,
  "metadata": {
    "kernelspec": {
      "display_name": "Python 3",
      "language": "python",
      "name": "python3"
    },
    "language_info": {
      "name": "python",
      "version": "3.6.6",
      "mimetype": "text/x-python",
      "codemirror_mode": {
        "name": "ipython",
        "version": 3
      },
      "pygments_lexer": "ipython3",
      "nbconvert_exporter": "python",
      "file_extension": ".py"
    },
    "colab": {
      "name": "Back-pain.ipynb",
      "provenance": []
    }
  },
  "cells": [
    {
      "cell_type": "markdown",
      "metadata": {
        "_uuid": "6d24889e8175ca8987fd0d0e2dd2b74bf1c6c739",
        "id": "-Oaevr00UDZp",
        "colab_type": "text"
      },
      "source": [
        "# Prediction of back pain using Logistic Regression, Python\n",
        "\n",
        "The data comprises of 13 columns and 310 observations. 12 columns are numerical attributes of the spine/ back. The last column is the Status of the patient - Abnormal indicates presence of Back pain and Normal indicates no back pain. The intent is to predict the Status based on the 12 variables. \n",
        "\n",
        "In this kernel, I explore the different variables and use Logistic Regression to predict and understand the causal effects of the different predictors."
      ]
    },
    {
      "cell_type": "code",
      "metadata": {
        "_uuid": "8f2839f25d086af736a60e9eeb907d3b93b6e0e5",
        "_cell_guid": "b1076dfc-b9ad-4769-8c92-a6c4dae69d19",
        "trusted": true,
        "id": "M9rWXGwbUDZr",
        "colab_type": "code",
        "colab": {}
      },
      "source": [
        "#Loading the necessary libraries\n",
        "import numpy as np # linear algebra\n",
        "import pandas as pd # data processing, CSV file I/O (e.g. pd.read_csv)\n",
        "\n",
        "import os\n",
        "# print(os.listdir(\"../input\"))\n",
        "\n",
        "import matplotlib.pyplot as plt\n",
        "import seaborn as sns\n",
        "\n",
        "from sklearn import preprocessing\n",
        "from sklearn.linear_model import LogisticRegression\n",
        "from sklearn.model_selection import train_test_split\n",
        "import statsmodels.api as sm"
      ],
      "execution_count": 0,
      "outputs": []
    },
    {
      "cell_type": "code",
      "metadata": {
        "trusted": true,
        "_uuid": "b0eb0f23e708da845d757429778f2162a1668ebd",
        "id": "G_esLsGRUDZu",
        "colab_type": "code",
        "colab": {}
      },
      "source": [
        "back_data = pd.read_csv(\"Dataset_spine.csv\")"
      ],
      "execution_count": 0,
      "outputs": []
    },
    {
      "cell_type": "markdown",
      "metadata": {
        "_cell_guid": "79c7e3d0-c299-4dcb-8224-4455121ee9b0",
        "collapsed": true,
        "_uuid": "d629ff2d2480ee46fbb7e2d37f6b5fab8052498a",
        "trusted": false,
        "id": "kNb0w_rsUDZw",
        "colab_type": "text"
      },
      "source": [
        "## Unnamed column names\n",
        "\n",
        " - There is an additional column with notes about the names of each of the individual attributes. This is removed.\n",
        " - The columns are not named in the dataset. Adding the column names to each of the corresponding columns. "
      ]
    },
    {
      "cell_type": "code",
      "metadata": {
        "trusted": true,
        "_uuid": "028ccc53ffbb744ecde50b5cfaf3a4dcd0aa8ac7",
        "id": "DNVVTFZRUDZx",
        "colab_type": "code",
        "colab": {}
      },
      "source": [
        "del back_data['Unnamed: 13']\n",
        "back_data.columns = ['pelvic_incidence','pelvic tilt','lumbar_lordosis_angle','sacral_slope','pelvic_radius','degree_spondylolisthesis','pelvic_slope','Direct_tilt','thoracic_slope','cervical_tilt','sacrum_angle','scoliosis_slope','Status']"
      ],
      "execution_count": 0,
      "outputs": []
    },
    {
      "cell_type": "markdown",
      "metadata": {
        "_uuid": "960fe8504aa3c8e232ab4a57939708ec2bd6633e",
        "id": "QEvF9yweUDZz",
        "colab_type": "text"
      },
      "source": [
        "## Initial Data Exploration\n",
        " - Checking if there are any missing values in the dataset. Turns out there aren't any.\n",
        " - Checking the frequency of the different values of the Status column. Abnormal is 210 of the 310 observations. This means that it is not really an unbalanced dataset."
      ]
    },
    {
      "cell_type": "code",
      "metadata": {
        "trusted": true,
        "_uuid": "56d7f534ea8ac8275a2b83cce6cb4fcea909f143",
        "id": "9Nn75lKmUDZ0",
        "colab_type": "code",
        "outputId": "60250e0a-4ffc-4363-aed9-34c719101b9b",
        "colab": {
          "base_uri": "https://localhost:8080/",
          "height": 638
        }
      },
      "source": [
        "## Understanding the structure of the data variables\n",
        "back_data.info()\n",
        "\n",
        "##Checking for missing values. There are no missing values\n",
        "print(back_data.isnull().sum())\n",
        "\n",
        "## split of the Status column between the two levels Abnormal and Normal\n",
        "print(back_data.Status.describe())"
      ],
      "execution_count": 0,
      "outputs": [
        {
          "output_type": "stream",
          "text": [
            "<class 'pandas.core.frame.DataFrame'>\n",
            "RangeIndex: 310 entries, 0 to 309\n",
            "Data columns (total 13 columns):\n",
            "pelvic_incidence            310 non-null float64\n",
            "pelvic tilt                 310 non-null float64\n",
            "lumbar_lordosis_angle       310 non-null float64\n",
            "sacral_slope                310 non-null float64\n",
            "pelvic_radius               310 non-null float64\n",
            "degree_spondylolisthesis    310 non-null float64\n",
            "pelvic_slope                310 non-null float64\n",
            "Direct_tilt                 310 non-null float64\n",
            "thoracic_slope              310 non-null float64\n",
            "cervical_tilt               310 non-null float64\n",
            "sacrum_angle                310 non-null float64\n",
            "scoliosis_slope             310 non-null float64\n",
            "Status                      310 non-null object\n",
            "dtypes: float64(12), object(1)\n",
            "memory usage: 31.6+ KB\n",
            "pelvic_incidence            0\n",
            "pelvic tilt                 0\n",
            "lumbar_lordosis_angle       0\n",
            "sacral_slope                0\n",
            "pelvic_radius               0\n",
            "degree_spondylolisthesis    0\n",
            "pelvic_slope                0\n",
            "Direct_tilt                 0\n",
            "thoracic_slope              0\n",
            "cervical_tilt               0\n",
            "sacrum_angle                0\n",
            "scoliosis_slope             0\n",
            "Status                      0\n",
            "dtype: int64\n",
            "count          310\n",
            "unique           2\n",
            "top       Abnormal\n",
            "freq           210\n",
            "Name: Status, dtype: object\n"
          ],
          "name": "stdout"
        }
      ]
    },
    {
      "cell_type": "markdown",
      "metadata": {
        "_uuid": "2e307e1b3e534d5e518fa88ada8b266ab3827c0f",
        "id": "fCqAB_EXUDZ2",
        "colab_type": "text"
      },
      "source": [
        "## Multi Collinearity check\n",
        " - Checking if the individual columns are correlated with each other. In which case, they might end up having the same predictive power or explaining the same variation in the dependent variable. \n",
        " - The correlation matrix/ plot is a good way to establish multi collinearity between the dependent variables. Anything closer to +- 1 indicates high correlation between those two predictor variables.\n",
        " - We can observe from the plot that pelvic_incidence is highly correlated with pelvic tilt, sacral slope, degree spondylolisthesis and lumbar lordosis angle."
      ]
    },
    {
      "cell_type": "code",
      "metadata": {
        "trusted": true,
        "_uuid": "a900fea36313f4633bdb57ed36f4f2214a1d85c2",
        "id": "_na9ZwKXUDZ2",
        "colab_type": "code",
        "outputId": "4c2f8a89-77a4-4ccb-e86d-45668e43e2aa",
        "colab": {
          "base_uri": "https://localhost:8080/",
          "height": 385
        }
      },
      "source": [
        "corr_back = back_data.corr()\n",
        "# Generate a mask for the upper right triangle of the square - one half is enough to convey the correlation \n",
        "## between the predictors\n",
        "mask = np.zeros_like(corr_back, dtype=np.bool)\n",
        "mask[np.triu_indices_from(mask)] = True\n",
        "\n",
        "# Generate the correlation plot \n",
        "sns.heatmap(corr_back, mask=mask, center=0, square=True, linewidths=.5)\n",
        "\n",
        "plt.show()"
      ],
      "execution_count": 0,
      "outputs": [
        {
          "output_type": "display_data",
          "data": {
            "image/png": "[encoded data removed]",
            "text/plain": [
              "<Figure size 432x288 with 2 Axes>"
            ]
          },
          "metadata": {
            "tags": []
          }
        }
      ]
    },
    {
      "cell_type": "code",
      "metadata": {
        "trusted": true,
        "_uuid": "bb590a1746146919e0a2259ff22195e9df7e4cba",
        "id": "KzcfWSkIUDZ5",
        "colab_type": "code",
        "outputId": "02be1c8a-8cab-4cc0-b6de-0c7b38e9750d",
        "colab": {
          "base_uri": "https://localhost:8080/",
          "height": 439
        }
      },
      "source": [
        "# Seeing the correlation values\n",
        "corr_back"
      ],
      "execution_count": 0,
      "outputs": [
        {
          "output_type": "execute_result",
          "data": {
            "text/html": [
              "<div>\n",
              "<style scoped>\n",
              "    .dataframe tbody tr th:only-of-type {\n",
              "        vertical-align: middle;\n",
              "    }\n",
              "\n",
              "    .dataframe tbody tr th {\n",
              "        vertical-align: top;\n",
              "    }\n",
              "\n",
              "    .dataframe thead th {\n",
              "        text-align: right;\n",
              "    }\n",
              "</style>\n",
              "<table border=\"1\" class=\"dataframe\">\n",
              "  <thead>\n",
              "    <tr style=\"text-align: right;\">\n",
              "      <th></th>\n",
              "      <th>pelvic_incidence</th>\n",
              "      <th>pelvic tilt</th>\n",
              "      <th>lumbar_lordosis_angle</th>\n",
              "      <th>sacral_slope</th>\n",
              "      <th>pelvic_radius</th>\n",
              "      <th>degree_spondylolisthesis</th>\n",
              "      <th>pelvic_slope</th>\n",
              "      <th>Direct_tilt</th>\n",
              "      <th>thoracic_slope</th>\n",
              "      <th>cervical_tilt</th>\n",
              "      <th>sacrum_angle</th>\n",
              "      <th>scoliosis_slope</th>\n",
              "    </tr>\n",
              "  </thead>\n",
              "  <tbody>\n",
              "    <tr>\n",
              "      <th>pelvic_incidence</th>\n",
              "      <td>1.000000</td>\n",
              "      <td>0.629199</td>\n",
              "      <td>0.717282</td>\n",
              "      <td>0.814960</td>\n",
              "      <td>-0.247467</td>\n",
              "      <td>0.638743</td>\n",
              "      <td>0.043290</td>\n",
              "      <td>-0.078411</td>\n",
              "      <td>-0.089740</td>\n",
              "      <td>0.016750</td>\n",
              "      <td>0.019240</td>\n",
              "      <td>-0.007251</td>\n",
              "    </tr>\n",
              "    <tr>\n",
              "      <th>pelvic tilt</th>\n",
              "      <td>0.629199</td>\n",
              "      <td>1.000000</td>\n",
              "      <td>0.432764</td>\n",
              "      <td>0.062345</td>\n",
              "      <td>0.032668</td>\n",
              "      <td>0.397862</td>\n",
              "      <td>0.008852</td>\n",
              "      <td>-0.072119</td>\n",
              "      <td>-0.063394</td>\n",
              "      <td>0.028931</td>\n",
              "      <td>0.032859</td>\n",
              "      <td>-0.056550</td>\n",
              "    </tr>\n",
              "    <tr>\n",
              "      <th>lumbar_lordosis_angle</th>\n",
              "      <td>0.717282</td>\n",
              "      <td>0.432764</td>\n",
              "      <td>1.000000</td>\n",
              "      <td>0.598387</td>\n",
              "      <td>-0.080344</td>\n",
              "      <td>0.533667</td>\n",
              "      <td>0.029486</td>\n",
              "      <td>-0.112939</td>\n",
              "      <td>-0.063582</td>\n",
              "      <td>0.063875</td>\n",
              "      <td>0.057199</td>\n",
              "      <td>-0.049054</td>\n",
              "    </tr>\n",
              "    <tr>\n",
              "      <th>sacral_slope</th>\n",
              "      <td>0.814960</td>\n",
              "      <td>0.062345</td>\n",
              "      <td>0.598387</td>\n",
              "      <td>1.000000</td>\n",
              "      <td>-0.342128</td>\n",
              "      <td>0.523557</td>\n",
              "      <td>0.048988</td>\n",
              "      <td>-0.046914</td>\n",
              "      <td>-0.067968</td>\n",
              "      <td>-0.000063</td>\n",
              "      <td>0.000207</td>\n",
              "      <td>0.032853</td>\n",
              "    </tr>\n",
              "    <tr>\n",
              "      <th>pelvic_radius</th>\n",
              "      <td>-0.247467</td>\n",
              "      <td>0.032668</td>\n",
              "      <td>-0.080344</td>\n",
              "      <td>-0.342128</td>\n",
              "      <td>1.000000</td>\n",
              "      <td>-0.026065</td>\n",
              "      <td>0.015767</td>\n",
              "      <td>0.063433</td>\n",
              "      <td>0.060477</td>\n",
              "      <td>-0.039800</td>\n",
              "      <td>0.029738</td>\n",
              "      <td>-0.030145</td>\n",
              "    </tr>\n",
              "    <tr>\n",
              "      <th>degree_spondylolisthesis</th>\n",
              "      <td>0.638743</td>\n",
              "      <td>0.397862</td>\n",
              "      <td>0.533667</td>\n",
              "      <td>0.523557</td>\n",
              "      <td>-0.026065</td>\n",
              "      <td>1.000000</td>\n",
              "      <td>0.085925</td>\n",
              "      <td>-0.063812</td>\n",
              "      <td>-0.057286</td>\n",
              "      <td>0.056576</td>\n",
              "      <td>0.023021</td>\n",
              "      <td>-0.041023</td>\n",
              "    </tr>\n",
              "    <tr>\n",
              "      <th>pelvic_slope</th>\n",
              "      <td>0.043290</td>\n",
              "      <td>0.008852</td>\n",
              "      <td>0.029486</td>\n",
              "      <td>0.048988</td>\n",
              "      <td>0.015767</td>\n",
              "      <td>0.085925</td>\n",
              "      <td>1.000000</td>\n",
              "      <td>0.012694</td>\n",
              "      <td>-0.011770</td>\n",
              "      <td>0.088017</td>\n",
              "      <td>0.060743</td>\n",
              "      <td>-0.073893</td>\n",
              "    </tr>\n",
              "    <tr>\n",
              "      <th>Direct_tilt</th>\n",
              "      <td>-0.078411</td>\n",
              "      <td>-0.072119</td>\n",
              "      <td>-0.112939</td>\n",
              "      <td>-0.046914</td>\n",
              "      <td>0.063433</td>\n",
              "      <td>-0.063812</td>\n",
              "      <td>0.012694</td>\n",
              "      <td>1.000000</td>\n",
              "      <td>0.009887</td>\n",
              "      <td>0.072738</td>\n",
              "      <td>-0.037428</td>\n",
              "      <td>-0.024021</td>\n",
              "    </tr>\n",
              "    <tr>\n",
              "      <th>thoracic_slope</th>\n",
              "      <td>-0.089740</td>\n",
              "      <td>-0.063394</td>\n",
              "      <td>-0.063582</td>\n",
              "      <td>-0.067968</td>\n",
              "      <td>0.060477</td>\n",
              "      <td>-0.057286</td>\n",
              "      <td>-0.011770</td>\n",
              "      <td>0.009887</td>\n",
              "      <td>1.000000</td>\n",
              "      <td>0.052451</td>\n",
              "      <td>0.011354</td>\n",
              "      <td>0.009541</td>\n",
              "    </tr>\n",
              "    <tr>\n",
              "      <th>cervical_tilt</th>\n",
              "      <td>0.016750</td>\n",
              "      <td>0.028931</td>\n",
              "      <td>0.063875</td>\n",
              "      <td>-0.000063</td>\n",
              "      <td>-0.039800</td>\n",
              "      <td>0.056576</td>\n",
              "      <td>0.088017</td>\n",
              "      <td>0.072738</td>\n",
              "      <td>0.052451</td>\n",
              "      <td>1.000000</td>\n",
              "      <td>0.057451</td>\n",
              "      <td>0.021243</td>\n",
              "    </tr>\n",
              "    <tr>\n",
              "      <th>sacrum_angle</th>\n",
              "      <td>0.019240</td>\n",
              "      <td>0.032859</td>\n",
              "      <td>0.057199</td>\n",
              "      <td>0.000207</td>\n",
              "      <td>0.029738</td>\n",
              "      <td>0.023021</td>\n",
              "      <td>0.060743</td>\n",
              "      <td>-0.037428</td>\n",
              "      <td>0.011354</td>\n",
              "      <td>0.057451</td>\n",
              "      <td>1.000000</td>\n",
              "      <td>0.015337</td>\n",
              "    </tr>\n",
              "    <tr>\n",
              "      <th>scoliosis_slope</th>\n",
              "      <td>-0.007251</td>\n",
              "      <td>-0.056550</td>\n",
              "      <td>-0.049054</td>\n",
              "      <td>0.032853</td>\n",
              "      <td>-0.030145</td>\n",
              "      <td>-0.041023</td>\n",
              "      <td>-0.073893</td>\n",
              "      <td>-0.024021</td>\n",
              "      <td>0.009541</td>\n",
              "      <td>0.021243</td>\n",
              "      <td>0.015337</td>\n",
              "      <td>1.000000</td>\n",
              "    </tr>\n",
              "  </tbody>\n",
              "</table>\n",
              "</div>"
            ],
            "text/plain": [
              "                          pelvic_incidence  ...  scoliosis_slope\n",
              "pelvic_incidence                  1.000000  ...        -0.007251\n",
              "pelvic tilt                       0.629199  ...        -0.056550\n",
              "lumbar_lordosis_angle             0.717282  ...        -0.049054\n",
              "sacral_slope                      0.814960  ...         0.032853\n",
              "pelvic_radius                    -0.247467  ...        -0.030145\n",
              "degree_spondylolisthesis          0.638743  ...        -0.041023\n",
              "pelvic_slope                      0.043290  ...        -0.073893\n",
              "Direct_tilt                      -0.078411  ...        -0.024021\n",
              "thoracic_slope                   -0.089740  ...         0.009541\n",
              "cervical_tilt                     0.016750  ...         0.021243\n",
              "sacrum_angle                      0.019240  ...         0.015337\n",
              "scoliosis_slope                  -0.007251  ...         1.000000\n",
              "\n",
              "[12 rows x 12 columns]"
            ]
          },
          "metadata": {
            "tags": []
          },
          "execution_count": 10
        }
      ]
    },
    {
      "cell_type": "markdown",
      "metadata": {
        "_uuid": "641ea02914390c4a93315931f310023afef22244",
        "id": "SCZ_PN04UDZ7",
        "colab_type": "text"
      },
      "source": [
        "## Bi-variate analysis - Relation of each predictor with Target variable\n",
        "\n",
        "The status column has two values - 'Abnormal' and 'Normal'. We would like to explore how each of the 12 predictor variables vary with respect to the Status value. We would be more interested in those predictor variables which have a noticeable difference in their values corresponding to 'Normal' and 'Abnormal'. \n",
        "\n",
        "We calculate the mean/ median of values corresponding to Normal and Abnormal for each of the predictor variables. Some observations:\n",
        "\n",
        " - The first six variables have noticeable difference in the means corresponding to Normal and Abnormal.\n",
        " - The mean corresponding to Abnormal for degree_spondylolisthesis is quite higher than the corresponding median. Could be due to outliers.\n",
        " - pelvic_radius has lower values for Abnormal as compared to Normal."
      ]
    },
    {
      "cell_type": "code",
      "metadata": {
        "trusted": true,
        "_uuid": "d5d94b6d7ec0dded9307e74469b65d62577c4281",
        "id": "jG2mjuxlUDZ8",
        "colab_type": "code",
        "outputId": "aa2995b3-629e-4b05-f772-5df66b9d5c90",
        "colab": {
          "base_uri": "https://localhost:8080/",
          "height": 173
        }
      },
      "source": [
        "back_data.groupby('Status').mean()"
      ],
      "execution_count": 0,
      "outputs": [
        {
          "output_type": "execute_result",
          "data": {
            "text/html": [
              "<div>\n",
              "<style scoped>\n",
              "    .dataframe tbody tr th:only-of-type {\n",
              "        vertical-align: middle;\n",
              "    }\n",
              "\n",
              "    .dataframe tbody tr th {\n",
              "        vertical-align: top;\n",
              "    }\n",
              "\n",
              "    .dataframe thead th {\n",
              "        text-align: right;\n",
              "    }\n",
              "</style>\n",
              "<table border=\"1\" class=\"dataframe\">\n",
              "  <thead>\n",
              "    <tr style=\"text-align: right;\">\n",
              "      <th></th>\n",
              "      <th>pelvic_incidence</th>\n",
              "      <th>pelvic tilt</th>\n",
              "      <th>lumbar_lordosis_angle</th>\n",
              "      <th>sacral_slope</th>\n",
              "      <th>pelvic_radius</th>\n",
              "      <th>degree_spondylolisthesis</th>\n",
              "      <th>pelvic_slope</th>\n",
              "      <th>Direct_tilt</th>\n",
              "      <th>thoracic_slope</th>\n",
              "      <th>cervical_tilt</th>\n",
              "      <th>sacrum_angle</th>\n",
              "      <th>scoliosis_slope</th>\n",
              "    </tr>\n",
              "    <tr>\n",
              "      <th>Status</th>\n",
              "      <th></th>\n",
              "      <th></th>\n",
              "      <th></th>\n",
              "      <th></th>\n",
              "      <th></th>\n",
              "      <th></th>\n",
              "      <th></th>\n",
              "      <th></th>\n",
              "      <th></th>\n",
              "      <th></th>\n",
              "      <th></th>\n",
              "      <th></th>\n",
              "    </tr>\n",
              "  </thead>\n",
              "  <tbody>\n",
              "    <tr>\n",
              "      <th>Abnormal</th>\n",
              "      <td>64.692562</td>\n",
              "      <td>19.791111</td>\n",
              "      <td>55.925370</td>\n",
              "      <td>44.90145</td>\n",
              "      <td>115.077713</td>\n",
              "      <td>37.777705</td>\n",
              "      <td>0.483979</td>\n",
              "      <td>21.085875</td>\n",
              "      <td>12.948913</td>\n",
              "      <td>12.132737</td>\n",
              "      <td>-13.826677</td>\n",
              "      <td>25.146915</td>\n",
              "    </tr>\n",
              "    <tr>\n",
              "      <th>Normal</th>\n",
              "      <td>51.685244</td>\n",
              "      <td>12.821414</td>\n",
              "      <td>43.542605</td>\n",
              "      <td>38.86383</td>\n",
              "      <td>123.890834</td>\n",
              "      <td>2.186572</td>\n",
              "      <td>0.449880</td>\n",
              "      <td>21.816394</td>\n",
              "      <td>13.307268</td>\n",
              "      <td>11.514534</td>\n",
              "      <td>-14.528711</td>\n",
              "      <td>26.694019</td>\n",
              "    </tr>\n",
              "  </tbody>\n",
              "</table>\n",
              "</div>"
            ],
            "text/plain": [
              "          pelvic_incidence  pelvic tilt  ...  sacrum_angle  scoliosis_slope\n",
              "Status                                   ...                               \n",
              "Abnormal         64.692562    19.791111  ...    -13.826677        25.146915\n",
              "Normal           51.685244    12.821414  ...    -14.528711        26.694019\n",
              "\n",
              "[2 rows x 12 columns]"
            ]
          },
          "metadata": {
            "tags": []
          },
          "execution_count": 11
        }
      ]
    },
    {
      "cell_type": "code",
      "metadata": {
        "trusted": true,
        "_uuid": "2a981585b6de217e0bc0972ebd573d54511788f6",
        "id": "pWwjCroNUDZ-",
        "colab_type": "code",
        "outputId": "ce65891d-19d1-49cb-970b-73b2d277e1e6",
        "colab": {
          "base_uri": "https://localhost:8080/",
          "height": 173
        }
      },
      "source": [
        "back_data.groupby('Status').median()"
      ],
      "execution_count": 0,
      "outputs": [
        {
          "output_type": "execute_result",
          "data": {
            "text/html": [
              "<div>\n",
              "<style scoped>\n",
              "    .dataframe tbody tr th:only-of-type {\n",
              "        vertical-align: middle;\n",
              "    }\n",
              "\n",
              "    .dataframe tbody tr th {\n",
              "        vertical-align: top;\n",
              "    }\n",
              "\n",
              "    .dataframe thead th {\n",
              "        text-align: right;\n",
              "    }\n",
              "</style>\n",
              "<table border=\"1\" class=\"dataframe\">\n",
              "  <thead>\n",
              "    <tr style=\"text-align: right;\">\n",
              "      <th></th>\n",
              "      <th>pelvic_incidence</th>\n",
              "      <th>pelvic tilt</th>\n",
              "      <th>lumbar_lordosis_angle</th>\n",
              "      <th>sacral_slope</th>\n",
              "      <th>pelvic_radius</th>\n",
              "      <th>degree_spondylolisthesis</th>\n",
              "      <th>pelvic_slope</th>\n",
              "      <th>Direct_tilt</th>\n",
              "      <th>thoracic_slope</th>\n",
              "      <th>cervical_tilt</th>\n",
              "      <th>sacrum_angle</th>\n",
              "      <th>scoliosis_slope</th>\n",
              "    </tr>\n",
              "    <tr>\n",
              "      <th>Status</th>\n",
              "      <th></th>\n",
              "      <th></th>\n",
              "      <th></th>\n",
              "      <th></th>\n",
              "      <th></th>\n",
              "      <th></th>\n",
              "      <th></th>\n",
              "      <th></th>\n",
              "      <th></th>\n",
              "      <th></th>\n",
              "      <th></th>\n",
              "      <th></th>\n",
              "    </tr>\n",
              "  </thead>\n",
              "  <tbody>\n",
              "    <tr>\n",
              "      <th>Abnormal</th>\n",
              "      <td>65.274888</td>\n",
              "      <td>18.798899</td>\n",
              "      <td>56.150000</td>\n",
              "      <td>44.639597</td>\n",
              "      <td>115.650323</td>\n",
              "      <td>31.946516</td>\n",
              "      <td>0.501280</td>\n",
              "      <td>21.7506</td>\n",
              "      <td>12.77005</td>\n",
              "      <td>11.973735</td>\n",
              "      <td>-14.892070</td>\n",
              "      <td>24.50940</td>\n",
              "    </tr>\n",
              "    <tr>\n",
              "      <th>Normal</th>\n",
              "      <td>50.123115</td>\n",
              "      <td>13.482435</td>\n",
              "      <td>42.638923</td>\n",
              "      <td>37.059694</td>\n",
              "      <td>123.874328</td>\n",
              "      <td>1.152710</td>\n",
              "      <td>0.418732</td>\n",
              "      <td>22.4146</td>\n",
              "      <td>13.40975</td>\n",
              "      <td>11.330750</td>\n",
              "      <td>-13.974694</td>\n",
              "      <td>27.72795</td>\n",
              "    </tr>\n",
              "  </tbody>\n",
              "</table>\n",
              "</div>"
            ],
            "text/plain": [
              "          pelvic_incidence  pelvic tilt  ...  sacrum_angle  scoliosis_slope\n",
              "Status                                   ...                               \n",
              "Abnormal         65.274888    18.798899  ...    -14.892070         24.50940\n",
              "Normal           50.123115    13.482435  ...    -13.974694         27.72795\n",
              "\n",
              "[2 rows x 12 columns]"
            ]
          },
          "metadata": {
            "tags": []
          },
          "execution_count": 12
        }
      ]
    },
    {
      "cell_type": "markdown",
      "metadata": {
        "_uuid": "256d4eb49942d14bfcf498c5c19f561099fcf8d9",
        "id": "QYBatDzDUDaC",
        "colab_type": "text"
      },
      "source": [
        "### Box Plots\n",
        "To visualise the above data exploration, we make use of Box Plots as we are comparing Categorical and continuous variables.\n",
        "\n",
        "A couple of observations which jump out:\n",
        " - For the variable degree_spondilolisthesis, 'Normal' status clearly has a much lower range of values as compared to 'Abnormal'. Also shows the presence of a distant outlier. Not removing the outlier - as without domain knowledge, it would be hard to interpret whether it is an incorrect or a rare value.\n",
        " - For the variable 'Pelvic Radius' while 'Abnormal' has a much higher range of values, the median value of 'Abnormal' is lower than the median values of 'Normal'."
      ]
    },
    {
      "cell_type": "code",
      "metadata": {
        "trusted": true,
        "_uuid": "5672c2a87c6c2f89a6fc19977987126d32bdb0cb",
        "id": "2wsvTTqmUDaD",
        "colab_type": "code",
        "outputId": "460ef0a1-f4d3-4942-f597-d16e284722ce",
        "colab": {
          "base_uri": "https://localhost:8080/",
          "height": 1000
        }
      },
      "source": [
        "## Generating 3*4 matrix of box plots\n",
        "fig, axes = plt.subplots(3, 4, figsize = (15,15))\n",
        "axes = axes.flatten()\n",
        "\n",
        "for i in range(0,len(back_data.columns)-1):\n",
        "    sns.boxplot(x=\"Status\", y=back_data.iloc[:,i], data=back_data, orient='v', ax=axes[i])\n",
        "\n",
        "plt.tight_layout()\n",
        "plt.show()"
      ],
      "execution_count": 0,
      "outputs": [
        {
          "output_type": "display_data",
          "data": {
            "image/png": "[encoded data removed]",
            "text/plain": [
              "<Figure size 1080x1080 with 12 Axes>"
            ]
          },
          "metadata": {
            "tags": []
          }
        }
      ]
    },
    {
      "cell_type": "markdown",
      "metadata": {
        "_uuid": "fb4a27f91db27ba18126afc275a01ad1864976c5",
        "id": "KL6NNTvIUDaF",
        "colab_type": "text"
      },
      "source": [
        "## Final processing\n",
        "\n",
        " - For modelling purpose, we map all the predictor variables to a array X and the target variable to an array Y. \n",
        " - The class labels 'Abnormal' and 'Normal' are numerically encoded to 1 and 0. While this is not necessary as the sklearn module can handle it internally, it is convenient for graphing the Receiver Operating curve (if required).\n",
        " - The variables are subjected to Standardization (mean zero and unit variance) before being fed to the model."
      ]
    },
    {
      "cell_type": "code",
      "metadata": {
        "trusted": true,
        "_uuid": "7ae643d9a3ddf74c97c97fefa016f14cc207e6b8",
        "id": "4Oz2Mkx3UDaG",
        "colab_type": "code",
        "colab": {}
      },
      "source": [
        "back_data.loc[back_data.Status=='Abnormal','Status'] = 1\n",
        "back_data.loc[back_data.Status=='Normal','Status'] = 0"
      ],
      "execution_count": 0,
      "outputs": []
    },
    {
      "cell_type": "code",
      "metadata": {
        "trusted": true,
        "_uuid": "d588a2896d3be010e52c3cadc287ac304be2b4bd",
        "id": "Zc-jsK6qUDaI",
        "colab_type": "code",
        "colab": {}
      },
      "source": [
        "X = back_data.loc[:, back_data.columns != \"Status\"]\n",
        "y = back_data.loc[:, back_data.columns == \"Status\"]"
      ],
      "execution_count": 0,
      "outputs": []
    },
    {
      "cell_type": "markdown",
      "metadata": {
        "_uuid": "01fede2da03ef8f75bb601a729fed2002b26ce1b",
        "id": "yPKQpyhfUDaJ",
        "colab_type": "text"
      },
      "source": [
        "## Modelling and Feature Interpretation\n",
        "\n",
        " - Implementing a logistic regression classifier with a train test split in a 70:30 ratio. \n",
        " - The fitted model when applied on the test data returns an accuracy of 81.7%. "
      ]
    },
    {
      "cell_type": "code",
      "metadata": {
        "trusted": true,
        "_uuid": "bcdcebb8e975d4283098da23cfdf94029e05b758",
        "id": "v3Umk1cJUDaK",
        "colab_type": "code",
        "colab": {}
      },
      "source": [
        "def data_preprocess(X,y):\n",
        "    X_train, X_test, y_train, y_test = train_test_split(X, y.values.ravel(), test_size=0.3, random_state=0)\n",
        "    from sklearn.preprocessing import StandardScaler\n",
        "    scaler = StandardScaler(copy=True, with_mean=True, with_std=True)\n",
        "\n",
        "    scaler.fit(X_train)\n",
        "\n",
        "    # Now apply the transformations to the data:\n",
        "    train_scaled = scaler.transform(X_train)\n",
        "    test_scaled = scaler.transform(X_test)\n",
        "    return(train_scaled, test_scaled, y_train, y_test)"
      ],
      "execution_count": 0,
      "outputs": []
    },
    {
      "cell_type": "code",
      "metadata": {
        "trusted": true,
        "_uuid": "6b3af39348e13776ed9e2e668b87728f91272ccb",
        "id": "oeoUT4AmUDaM",
        "colab_type": "code",
        "colab": {}
      },
      "source": [
        "def logistic_regression(x,y):\n",
        "    logreg = LogisticRegression().fit(x, y)\n",
        "    return(logreg)"
      ],
      "execution_count": 0,
      "outputs": []
    },
    {
      "cell_type": "code",
      "metadata": {
        "trusted": true,
        "_uuid": "ab02e7254146b8c317b3d9caf30a8f6eb98008a9",
        "id": "bDPNpCsrUDaO",
        "colab_type": "code",
        "outputId": "d45dc5e1-db97-4e05-d2b4-cdf09bcd2bcc",
        "colab": {
          "base_uri": "https://localhost:8080/",
          "height": 50
        }
      },
      "source": [
        "X_train_scaled, X_test_scaled, y_train, y_test = data_preprocess(X,y)\n",
        "\n",
        "logreg_result = logistic_regression(X_train_scaled, y_train)\n",
        "\n",
        "print(\"Training set score: {:.3f}\".format(logreg_result.score(X_train_scaled,y_train)))\n",
        "print(\"Test set score: {:.3f}\".format(logreg_result.score(X_test_scaled,y_test)))"
      ],
      "execution_count": 0,
      "outputs": [
        {
          "output_type": "stream",
          "text": [
            "Training set score: 0.876\n",
            "Test set score: 0.817\n"
          ],
          "name": "stdout"
        }
      ]
    },
    {
      "cell_type": "markdown",
      "metadata": {
        "_uuid": "6017671a5bbe43507994e893768802a29bff72a0",
        "id": "QZSB5bHRUDaQ",
        "colab_type": "text"
      },
      "source": [
        "## To explain or to predict\n",
        "\n",
        " - While the previous model implemented was good in predicting the Target variable on a test set, we did not interpret anything about the individual features - which variable(s) influence the Target variable more. \n",
        " - Since this is a medical dataset, there could be a need for explaining the effect of individual variables on the response variable. Hence it would be a good idea to explore the model co-efficients of the predictor variables to see how well each of them influence the response. \n",
        " - Let us attempt this in the next section."
      ]
    },
    {
      "cell_type": "code",
      "metadata": {
        "trusted": true,
        "_uuid": "9afeb023dfd9075e7ec3b65ba602e6c0ab4d8692",
        "id": "9RqdKFbgUDaQ",
        "colab_type": "code",
        "outputId": "8ac8f558-6bba-4749-f1a5-b19bf046a6b0",
        "colab": {
          "base_uri": "https://localhost:8080/",
          "height": 554
        }
      },
      "source": [
        "logit_model = sm.Logit(y_train, X_train_scaled)\n",
        "result = logit_model.fit()\n",
        "print(result.summary2())"
      ],
      "execution_count": 0,
      "outputs": [
        {
          "output_type": "stream",
          "text": [
            "Warning: Maximum number of iterations has been exceeded.\n",
            "         Current function value: 0.473055\n",
            "         Iterations: 35\n",
            "                           Results: Logit\n",
            "====================================================================\n",
            "Model:               Logit             Pseudo R-squared:  0.248     \n",
            "Dependent Variable:  y                 AIC:               229.3058  \n",
            "Date:                2020-01-09 08:08  BIC:               269.8646  \n",
            "No. Observations:    217               Log-Likelihood:    -102.65   \n",
            "Df Model:            11                LL-Null:           -136.45   \n",
            "Df Residuals:        205               LLR p-value:       3.4943e-10\n",
            "Converged:           0.0000            Scale:             1.0000    \n",
            "No. Iterations:      35.0000                                        \n",
            "--------------------------------------------------------------------\n",
            "     Coef.    Std.Err.      z    P>|z|      [0.025         0.975]   \n",
            "--------------------------------------------------------------------\n",
            "x1   0.0814 9455046.8626  0.0000 1.0000 -18531551.2414 18531551.4041\n",
            "x2   0.0765 5389326.3090  0.0000 1.0000 -10562885.3901 10562885.5432\n",
            "x3  -0.2797       0.3142 -0.8904 0.3733        -0.8955        0.3361\n",
            "x4  -0.5412 7439364.9248 -0.0000 1.0000 -14580887.8616 14580886.7792\n",
            "x5  -1.1234       0.2351 -4.7773 0.0000        -1.5842       -0.6625\n",
            "x6   2.3250       0.4401  5.2832 0.0000         1.4625        3.1875\n",
            "x7   0.1711       0.1790  0.9561 0.3390        -0.1797        0.5220\n",
            "x8  -0.2115       0.1770 -1.1950 0.2321        -0.5583        0.1354\n",
            "x9   0.0724       0.1738  0.4166 0.6770        -0.2683        0.4131\n",
            "x10  0.2003       0.1772  1.1301 0.2584        -0.1471        0.5476\n",
            "x11 -0.1042       0.1804 -0.5778 0.5634        -0.4578        0.2493\n",
            "x12 -0.2749       0.1764 -1.5579 0.1193        -0.6207        0.0709\n",
            "====================================================================\n",
            "\n"
          ],
          "name": "stdout"
        },
        {
          "output_type": "stream",
          "text": [
            "/usr/local/lib/python3.6/dist-packages/statsmodels/base/model.py:512: ConvergenceWarning: Maximum Likelihood optimization failed to converge. Check mle_retvals\n",
            "  \"Check mle_retvals\", ConvergenceWarning)\n"
          ],
          "name": "stderr"
        }
      ]
    },
    {
      "cell_type": "markdown",
      "metadata": {
        "_uuid": "3ea795f74a1be5edcddf2061a4ebc1c533df6626",
        "id": "06oWK_XDUDaS",
        "colab_type": "text"
      },
      "source": [
        "## Understanding the model result summary\n",
        "\n",
        " - The above model did not converge because some variables were highly correlated with each other and this would have led to the correlation/ covariance matrix to be singular. \n",
        " - A matrix can become singular if any rows(columns) can be expressed as a linear combination of any other rows (columns). \n",
        " - In fact, it was very intersting to note that in our data, the Pelvic Incidence column values are an exact sum of Pelvic Tilt and Sacral Slope. So that explains.\n",
        " - Also in our statistical test results, the Standard error values are very high and p-value is 1 for these three variables. Hence we will remove them and re run the model. "
      ]
    },
    {
      "cell_type": "code",
      "metadata": {
        "trusted": true,
        "_uuid": "d70534e20ba22ff158669774dec9efd5072e3cc5",
        "id": "zqvxnthqUDaT",
        "colab_type": "code",
        "colab": {}
      },
      "source": [
        "#Removing the highly correlated variables which also had high standard error\n",
        "cols_to_include = [cols for cols in X.columns if cols not in ['pelvic_incidence', 'pelvic tilt','sacral_slope']]\n",
        "X = back_data[cols_to_include]"
      ],
      "execution_count": 0,
      "outputs": []
    },
    {
      "cell_type": "code",
      "metadata": {
        "trusted": true,
        "_uuid": "d4434a23b84fb7060183a4d1c3867adf42081851",
        "scrolled": true,
        "id": "D1WV3tyaUDaV",
        "colab_type": "code",
        "outputId": "7aa9246a-6c4f-43a2-d3dc-327c2eb2f81c",
        "colab": {
          "base_uri": "https://localhost:8080/",
          "height": 50
        }
      },
      "source": [
        "X_train_scaled, X_test_scaled, y_train, y_test = data_preprocess(X,y)\n",
        "\n",
        "logreg_result = logistic_regression(X_train_scaled, y_train)\n",
        "\n",
        "print(\"Training set score: {:.3f}\".format(logreg_result.score(X_train_scaled,y_train)))\n",
        "print(\"Test set score: {:.3f}\".format(logreg_result.score(X_test_scaled,y_test)))"
      ],
      "execution_count": 0,
      "outputs": [
        {
          "output_type": "stream",
          "text": [
            "Training set score: 0.848\n",
            "Test set score: 0.753\n"
          ],
          "name": "stdout"
        }
      ]
    },
    {
      "cell_type": "markdown",
      "metadata": {
        "_uuid": "4f92de61e5d3c9fe09e954e1e82eefc6d9fbbd7f",
        "id": "xNQTOKB8UDaX",
        "colab_type": "text"
      },
      "source": [
        "The test results indicate that the predictive power has gone down after removing the highly correlated variables. Let us look at the statistical summary below."
      ]
    },
    {
      "cell_type": "code",
      "metadata": {
        "trusted": true,
        "_uuid": "181e028da6b161038e67fb990dddd79fde7b493f",
        "id": "8NTVB6ITUDaa",
        "colab_type": "code",
        "outputId": "6e65d39e-b541-4f30-e528-4b48d4b0088a",
        "colab": {
          "base_uri": "https://localhost:8080/",
          "height": 470
        }
      },
      "source": [
        "# to get the statistical summary of the new model\n",
        "logit_model=sm.Logit(y_train,X_train_scaled)\n",
        "result=logit_model.fit()\n",
        "print(result.summary2())"
      ],
      "execution_count": 0,
      "outputs": [
        {
          "output_type": "stream",
          "text": [
            "Optimization terminated successfully.\n",
            "         Current function value: 0.481933\n",
            "         Iterations 7\n",
            "                         Results: Logit\n",
            "=================================================================\n",
            "Model:              Logit            Pseudo R-squared: 0.234     \n",
            "Dependent Variable: y                AIC:              227.1591  \n",
            "Date:               2020-01-09 08:08 BIC:              257.5781  \n",
            "No. Observations:   217              Log-Likelihood:   -104.58   \n",
            "Df Model:           8                LL-Null:          -136.45   \n",
            "Df Residuals:       208              LLR p-value:      8.5613e-11\n",
            "Converged:          1.0000           Scale:            1.0000    \n",
            "No. Iterations:     7.0000                                       \n",
            "--------------------------------------------------------------------\n",
            "       Coef.     Std.Err.       z       P>|z|      [0.025     0.975]\n",
            "--------------------------------------------------------------------\n",
            "x1    -0.5434      0.2568    -2.1158    0.0344    -1.0468    -0.0400\n",
            "x2    -0.9642      0.2080    -4.6364    0.0000    -1.3719    -0.5566\n",
            "x3     2.2963      0.4142     5.5443    0.0000     1.4846     3.1081\n",
            "x4     0.1499      0.1771     0.8464    0.3974    -0.1972     0.4971\n",
            "x5    -0.2442      0.1738    -1.4047    0.1601    -0.5849     0.0965\n",
            "x6     0.0640      0.1732     0.3694    0.7118    -0.2754     0.4034\n",
            "x7     0.2068      0.1747     1.1841    0.2364    -0.1355     0.5491\n",
            "x8    -0.1183      0.1777    -0.6660    0.5054    -0.4666     0.2299\n",
            "x9    -0.2872      0.1736    -1.6547    0.0980    -0.6274     0.0530\n",
            "=================================================================\n",
            "\n"
          ],
          "name": "stdout"
        }
      ]
    },
    {
      "cell_type": "markdown",
      "metadata": {
        "_uuid": "fbd9455f44dc10200f7ef2119f3e7012b30ba79e",
        "id": "XDTD6EG2UDad",
        "colab_type": "text"
      },
      "source": [
        "## Model convergence\n",
        "- The model has now converged after removing the highly correlated variables.\n",
        "- There are a few predictors with p-values less than 0.05 (assuming a 95% confidence level). Let us consider only those predictors and re run the model"
      ]
    },
    {
      "cell_type": "code",
      "metadata": {
        "trusted": true,
        "_uuid": "4bae1b585c5f4108fea6903f9440dec672031994",
        "id": "AFKFkEAgUDae",
        "colab_type": "code",
        "colab": {}
      },
      "source": [
        "# considering only the variables which have p-value less than 0.05\n",
        "X_trim_1 = X.loc[:,['lumbar_lordosis_angle','pelvic_radius','degree_spondylolisthesis']]"
      ],
      "execution_count": 0,
      "outputs": []
    },
    {
      "cell_type": "markdown",
      "metadata": {
        "_uuid": "6574ef17754d812063911e8a47b84f3899fbae7b",
        "id": "Y2TJyHwbUDag",
        "colab_type": "text"
      },
      "source": [
        "## Final Model Selection\n",
        "\n",
        "- The test result below indicate that there is a marginal increase in predictive power - the accuracy on the test set has increased from 74% to 77%. \n",
        "- This can be our final chosen model (even though Variable 1 - lumbar_lordosis_angle has a p-value marginally greater than 0.05). \n"
      ]
    },
    {
      "cell_type": "code",
      "metadata": {
        "trusted": true,
        "_uuid": "f2166b9ab4eb654a4baf6277dc5f4bdfc29f129f",
        "id": "JPnkSQv8UDah",
        "colab_type": "code",
        "outputId": "d180b705-1c7c-444c-c557-d9769217ccdb",
        "colab": {
          "base_uri": "https://localhost:8080/",
          "height": 50
        }
      },
      "source": [
        "X_train_scaled, X_test_scaled, y_train, y_test = data_preprocess(X_trim_1,y)\n",
        "\n",
        "logreg_result = logistic_regression(X_train_scaled, y_train)\n",
        "\n",
        "print(\"Training set score: {:.3f}\".format(logreg_result.score(X_train_scaled,y_train)))\n",
        "print(\"Test set score: {:.3f}\".format(logreg_result.score(X_test_scaled,y_test)))"
      ],
      "execution_count": 0,
      "outputs": [
        {
          "output_type": "stream",
          "text": [
            "Training set score: 0.857\n",
            "Test set score: 0.774\n"
          ],
          "name": "stdout"
        }
      ]
    },
    {
      "cell_type": "code",
      "metadata": {
        "trusted": true,
        "_uuid": "a46ccac9e40ef9fd66340ec61791f61cf4441d38",
        "id": "h3cKDMYfUDai",
        "colab_type": "code",
        "outputId": "0bc3b75b-7321-41ce-ba5c-62d302963cef",
        "colab": {
          "base_uri": "https://localhost:8080/",
          "height": 370
        }
      },
      "source": [
        "logit_model=sm.Logit(y_train,X_train_scaled)\n",
        "result=logit_model.fit()\n",
        "print(result.summary2())"
      ],
      "execution_count": 0,
      "outputs": [
        {
          "output_type": "stream",
          "text": [
            "Optimization terminated successfully.\n",
            "         Current function value: 0.498420\n",
            "         Iterations 7\n",
            "                         Results: Logit\n",
            "=================================================================\n",
            "Model:              Logit            Pseudo R-squared: 0.207     \n",
            "Dependent Variable: y                AIC:              222.3145  \n",
            "Date:               2020-01-09 08:08 BIC:              232.4542  \n",
            "No. Observations:   217              Log-Likelihood:   -108.16   \n",
            "Df Model:           2                LL-Null:          -136.45   \n",
            "Df Residuals:       214              LLR p-value:      5.1622e-13\n",
            "Converged:          1.0000           Scale:            1.0000    \n",
            "No. Iterations:     7.0000                                       \n",
            "--------------------------------------------------------------------\n",
            "       Coef.     Std.Err.       z       P>|z|      [0.025     0.975]\n",
            "--------------------------------------------------------------------\n",
            "x1    -0.4688      0.2426    -1.9325    0.0533    -0.9443     0.0067\n",
            "x2    -0.9188      0.2037    -4.5100    0.0000    -1.3181    -0.5195\n",
            "x3     2.1897      0.3937     5.5626    0.0000     1.4182     2.9613\n",
            "=================================================================\n",
            "\n"
          ],
          "name": "stdout"
        }
      ]
    },
    {
      "cell_type": "markdown",
      "metadata": {
        "_uuid": "e17e37ad8fcbce617849d697ba3a611bbcca9e9d",
        "id": "PglDJBDvUDal",
        "colab_type": "text"
      },
      "source": [
        "## Interpreting the causative power of the predictors\n",
        "\n",
        "- Now that we have decided on our final model, let us interpret the co-efficient estimates of the three predictor variables from the above statistical summary. \n",
        "    - Both lumbar_lordosis_angle and pelvic_radius have a negative co-efficient indicating that for every unit increase in the values of these variables, the log of odds of the Status being Abnormal decreases. \n",
        "    - degree_spondylolisthesis has a positive relationship with Abnormal status i.e for every unit increase in the value of degree_spondylolisthesis the log of odds of the Status being Abnormal increases."
      ]
    },
    {
      "cell_type": "code",
      "metadata": {
        "trusted": true,
        "_uuid": "b294216656fda6656dd0e99af28559b95b3bbe56",
        "id": "1EEZkegwUDal",
        "colab_type": "code",
        "colab": {}
      },
      "source": [
        "# assigning the model predicted values to y_pred\n",
        "y_pred = logreg_result.predict(X_test_scaled)\n",
        "\n",
        "# assigning the string Normal and Abnormal to the 0 and 1 values respectively. This is useful in plotting \n",
        "# the confusion matrix\n",
        "y_pred_string = y_pred.astype(str)\n",
        "y_pred_string[np.where(y_pred_string == '0')] = 'Normal'\n",
        "y_pred_string[np.where(y_pred_string == '1')] = 'Abnormal'\n",
        "\n",
        "y_test_string = y_test.astype(str)\n",
        "y_test_string[np.where(y_test_string == '0')] = 'Normal'\n",
        "y_test_string[np.where(y_test_string == '1')] = 'Abnormal'"
      ],
      "execution_count": 0,
      "outputs": []
    },
    {
      "cell_type": "markdown",
      "metadata": {
        "_uuid": "e1de7804dfdc4a26184727bcbb38af7c9e0f8efa",
        "id": "73gLCW5XUDan",
        "colab_type": "text"
      },
      "source": [
        "## Sensitivity and Specificity\n",
        "\n",
        "From the confusion matrix, we can calculate the Sensitivity True Positive/ (True positive + False Negative) and Specificity - True Negative / (True Negative + False Positive). \n",
        "Sensitivity = 74.6% and Specificity = 76.6%\n",
        "\n",
        "I am not quite sure in this specific problem context, which one should be given more importance (or should have a higher value). "
      ]
    },
    {
      "cell_type": "code",
      "metadata": {
        "trusted": true,
        "_uuid": "03452a992109465f16ba28e701520a3c8f60a65c",
        "id": "1wvjtFf3UDao",
        "colab_type": "code",
        "outputId": "3c4d9321-4ef1-4ab3-8479-9baed2a5060a",
        "colab": {
          "base_uri": "https://localhost:8080/",
          "height": 295
        }
      },
      "source": [
        "from sklearn.metrics import confusion_matrix\n",
        "ax= plt.subplot()\n",
        "labels = ['Abnormal','Normal']\n",
        "cm = confusion_matrix(y_test_string, y_pred_string, labels)\n",
        "sns.heatmap(cm, annot=True, ax = ax); #annot=True to annotate cells\n",
        "\n",
        "# labels, title and ticks\n",
        "ax.set_xlabel('Predicted labels');ax.set_ylabel('True labels'); \n",
        "ax.set_title('Confusion Matrix'); \n",
        "ax.xaxis.set_ticklabels(['Abnormal', 'Normal']); ax.yaxis.set_ticklabels(['Abnormal', 'Normal']);\n",
        "plt.show()"
      ],
      "execution_count": 0,
      "outputs": [
        {
          "output_type": "display_data",
          "data": {
            "image/png": "[encoded data removed]",
            "text/plain": [
              "<Figure size 432x288 with 2 Axes>"
            ]
          },
          "metadata": {
            "tags": []
          }
        }
      ]
    },
    {
      "cell_type": "markdown",
      "metadata": {
        "trusted": true,
        "_uuid": "ac53323a3040e7652b0a04cb6bc8e95e9cde317f",
        "id": "MAfI7Z7nUDap",
        "colab_type": "text"
      },
      "source": [
        "### Thanks for coming along all the way. Would love to hear inputs for improvement. Thanks."
      ]
    }
  ]
}